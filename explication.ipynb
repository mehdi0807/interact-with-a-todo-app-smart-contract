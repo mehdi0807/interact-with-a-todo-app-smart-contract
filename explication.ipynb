{
 "cells": [
  {
   "cell_type": "markdown",
   "metadata": {},
   "source": [
    "Module : <b>Blockchain</b><br> \n",
    "Travail réalisé par :<b>Mehdi AMOR OUAHMED</b><br>\n",
    "<br> Niveau : <b>3 DSIA</b>  <br> Année Universitaire : <b>2023-2024</b>\n",
    "# Intéragir avec un smart contrat<br>"
   ]
  },
  {
   "cell_type": "code",
   "execution_count": null,
   "metadata": {},
   "outputs": [],
   "source": []
  }
 ],
 "metadata": {
  "language_info": {
   "name": "python"
  }
 },
 "nbformat": 4,
 "nbformat_minor": 2
}
