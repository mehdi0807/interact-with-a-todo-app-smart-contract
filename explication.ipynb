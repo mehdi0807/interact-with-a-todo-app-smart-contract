{
 "cells": [
  {
   "cell_type": "markdown",
   "metadata": {},
   "source": [
    "Module : <b>Blockchain</b><br> \n",
    "Travail réalisé par :<b>Mehdi AMOR OUAHMED</b><br>\n",
    "<br> Niveau : <b>3 DSIA</b>  <br> Année Universitaire : <b>2023-2024</b>\n",
    "# Interagir avec un smart contrat<br>"
   ]
  },
  {
   "cell_type": "markdown",
   "metadata": {},
   "source": [
    "Suite à des recherches, j'ai déterminé que la meilleure méthode pour interagir avec un smart contract est l'utilisation de la bibliothèque `web3.py`. <br>\n",
    "Pour acquérir une compréhension détaillée, j'ai consulté une playlist sur YouTube qui détaille les étapes essentielles à suivre : https://www.youtube.com/playlist?list=PLw-9a9yL-pt3oKQgq_ZYzkMKAkbr8M67P . <br>\n",
    "En parallèle, j'ai exploré la documentation officielle de la bibliothèque, accessible ici : https://web3py.readthedocs.io/en/stable/quickstart.html ."
   ]
  },
  {
   "cell_type": "markdown",
   "metadata": {},
   "source": [
    "## I. Se connecter au réseau de testnet BNB\n",
    "Pour avoir le lien du provider, j'ai consulté : https://chainlist.org/chain/97"
   ]
  },
  {
   "cell_type": "code",
   "execution_count": 1,
   "metadata": {},
   "outputs": [],
   "source": [
    "from web3 import Web3"
   ]
  },
  {
   "cell_type": "code",
   "execution_count": 2,
   "metadata": {},
   "outputs": [
    {
     "name": "stdout",
     "output_type": "stream",
     "text": [
      "Connected to BSC Testnet\n"
     ]
    }
   ],
   "source": [
    "test_net_bnb_url = \"https://data-seed-prebsc-1-s1.binance.org:8545\"\n",
    "w3 = Web3(Web3.HTTPProvider(test_net_bnb_url))\n",
    "\n",
    "if w3.is_connected():\n",
    "    print(\"Connected to BSC Testnet\")\n",
    "else:\n",
    "    print(\"Connection failed\")"
   ]
  },
  {
   "cell_type": "markdown",
   "metadata": {},
   "source": [
    "## II. Importation du contrat\n",
    "L'abi est dans un fichier qui s'appelle `abi.json` dans le dossier `src`"
   ]
  },
  {
   "cell_type": "code",
   "execution_count": 3,
   "metadata": {},
   "outputs": [],
   "source": [
    "import json\n",
    "import os\n",
    "f = open(os.path.join('src', 'abi.json'))\n",
    "contract_abi = json.load(f)\n",
    "contract_address = \"0x660aCEc32977F30aEe4A8637FE489dA43be3302e\"\n",
    "\n",
    "contract = w3.eth.contract(address=contract_address, abi=contract_abi)"
   ]
  },
  {
   "cell_type": "markdown",
   "metadata": {},
   "source": [
    "## III. Intergir avec le contrat\n",
    "### 1. Les fonctions de lecture:\n",
    "Ces fonctions ne demande pas de faire une transaction, i.e on n'a pas besoin de compte."
   ]
  },
  {
   "cell_type": "code",
   "execution_count": 4,
   "metadata": {},
   "outputs": [
    {
     "data": {
      "text/plain": [
       "0"
      ]
     },
     "execution_count": 4,
     "metadata": {},
     "output_type": "execute_result"
    }
   ],
   "source": [
    "contract.functions.nombre_taches_accomplies().call()"
   ]
  },
  {
   "cell_type": "code",
   "execution_count": 5,
   "metadata": {},
   "outputs": [
    {
     "data": {
      "text/plain": [
       "[[], []]"
      ]
     },
     "execution_count": 5,
     "metadata": {},
     "output_type": "execute_result"
    }
   ],
   "source": [
    "contract.functions.voir_progres().call()"
   ]
  },
  {
   "cell_type": "markdown",
   "metadata": {},
   "source": [
    "### 2. Les fonctions d'écriture :\n",
    "Ces fonctions demande pas de faire une transaction, i.e on a besoin d'un compte.<br>\n",
    "Pour utiliser ma clé privée sans la mentionner dans le code j'ai utilisé un fichier `.env`"
   ]
  },
  {
   "cell_type": "code",
   "execution_count": 6,
   "metadata": {},
   "outputs": [
    {
     "data": {
      "text/plain": [
       "True"
      ]
     },
     "execution_count": 6,
     "metadata": {},
     "output_type": "execute_result"
    }
   ],
   "source": [
    "from dotenv import find_dotenv, load_dotenv\n",
    "dotenv_path = find_dotenv()\n",
    "load_dotenv(dotenv_path)"
   ]
  },
  {
   "cell_type": "code",
   "execution_count": 7,
   "metadata": {},
   "outputs": [],
   "source": [
    "wallet = \"0x0be5E8Df43124d3B94e88fF0e6C866f1A4891893\"\n",
    "private_key = os.getenv(\"private_key\")"
   ]
  },
  {
   "cell_type": "markdown",
   "metadata": {},
   "source": [
    "#### Ajouter une tâche"
   ]
  },
  {
   "cell_type": "code",
   "execution_count": 8,
   "metadata": {},
   "outputs": [],
   "source": [
    "add_task_transaction = contract.functions.ajouter_une_tache('Faire le DM du module Blockchain').build_transaction(\n",
    "    {\"gasPrice\": w3.eth.gas_price, \n",
    "     \"chainId\": w3.eth.chain_id, \n",
    "     \"from\": wallet, \n",
    "     \"nonce\": w3.eth.get_transaction_count(wallet)})"
   ]
  },
  {
   "cell_type": "code",
   "execution_count": 9,
   "metadata": {},
   "outputs": [],
   "source": [
    "# Signer le contrat avec mon compte\n",
    "signed_transaction = w3.eth.account.sign_transaction(add_task_transaction, private_key=private_key)"
   ]
  },
  {
   "cell_type": "code",
   "execution_count": 10,
   "metadata": {},
   "outputs": [],
   "source": [
    "transaction_hash = w3.eth.send_raw_transaction(signed_transaction.rawTransaction)\n",
    "transaction_receipt = w3.eth.wait_for_transaction_receipt(transaction_hash)"
   ]
  },
  {
   "cell_type": "code",
   "execution_count": 11,
   "metadata": {},
   "outputs": [
    {
     "data": {
      "text/plain": [
       "[['Faire le DM du module Blockchain'], [False]]"
      ]
     },
     "execution_count": 11,
     "metadata": {},
     "output_type": "execute_result"
    }
   ],
   "source": [
    "# Vérifier que ça marche bien\n",
    "contract.functions.voir_progres().call()"
   ]
  },
  {
   "cell_type": "markdown",
   "metadata": {},
   "source": [
    "Bingo !"
   ]
  },
  {
   "cell_type": "markdown",
   "metadata": {},
   "source": [
    "#### Mettre une tâche accomplie"
   ]
  },
  {
   "cell_type": "code",
   "execution_count": 12,
   "metadata": {},
   "outputs": [],
   "source": [
    "add_task_transaction = contract.functions.tache_accomplie('Faire le DM du module Blockchain').build_transaction(\n",
    "    {\"gasPrice\": w3.eth.gas_price, \n",
    "     \"chainId\": w3.eth.chain_id, \n",
    "     \"from\": wallet, \n",
    "     \"nonce\": w3.eth.get_transaction_count(wallet)})\n",
    "\n",
    "signed_transaction = w3.eth.account.sign_transaction(add_task_transaction, private_key=private_key)\n",
    "\n",
    "transaction_hash = w3.eth.send_raw_transaction(signed_transaction.rawTransaction)\n",
    "\n",
    "transaction_receipt = w3.eth.wait_for_transaction_receipt(transaction_hash)"
   ]
  },
  {
   "cell_type": "code",
   "execution_count": 13,
   "metadata": {},
   "outputs": [
    {
     "data": {
      "text/plain": [
       "[['Faire le DM du module Blockchain'], [True]]"
      ]
     },
     "execution_count": 13,
     "metadata": {},
     "output_type": "execute_result"
    }
   ],
   "source": [
    "# Vérifier que ça marche bien\n",
    "contract.functions.voir_progres().call()"
   ]
  },
  {
   "cell_type": "code",
   "execution_count": 14,
   "metadata": {},
   "outputs": [
    {
     "data": {
      "text/plain": [
       "100"
      ]
     },
     "execution_count": 14,
     "metadata": {},
     "output_type": "execute_result"
    }
   ],
   "source": [
    "contract.functions.pourcentage_accompli().call()"
   ]
  },
  {
   "cell_type": "markdown",
   "metadata": {},
   "source": [
    "#### Reset"
   ]
  },
  {
   "cell_type": "code",
   "execution_count": 15,
   "metadata": {},
   "outputs": [],
   "source": [
    "add_task_transaction = contract.functions.reset().build_transaction(\n",
    "    {\"gasPrice\": w3.eth.gas_price, \n",
    "     \"chainId\": w3.eth.chain_id, \n",
    "     \"from\": wallet, \n",
    "     \"nonce\": w3.eth.get_transaction_count(wallet)})\n",
    "\n",
    "signed_transaction = w3.eth.account.sign_transaction(add_task_transaction, private_key=private_key)\n",
    "\n",
    "transaction_hash = w3.eth.send_raw_transaction(signed_transaction.rawTransaction)\n",
    "\n",
    "transaction_receipt = w3.eth.wait_for_transaction_receipt(transaction_hash)"
   ]
  },
  {
   "cell_type": "code",
   "execution_count": 16,
   "metadata": {},
   "outputs": [
    {
     "data": {
      "text/plain": [
       "[[], []]"
      ]
     },
     "execution_count": 16,
     "metadata": {},
     "output_type": "execute_result"
    }
   ],
   "source": [
    "# Vérifier que ça marche bien\n",
    "contract.functions.voir_progres().call()"
   ]
  }
 ],
 "metadata": {
  "kernelspec": {
   "display_name": "base",
   "language": "python",
   "name": "python3"
  },
  "language_info": {
   "codemirror_mode": {
    "name": "ipython",
    "version": 3
   },
   "file_extension": ".py",
   "mimetype": "text/x-python",
   "name": "python",
   "nbconvert_exporter": "python",
   "pygments_lexer": "ipython3",
   "version": "3.11.3"
  }
 },
 "nbformat": 4,
 "nbformat_minor": 2
}
